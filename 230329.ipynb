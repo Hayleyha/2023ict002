{
  "nbformat": 4,
  "nbformat_minor": 0,
  "metadata": {
    "colab": {
      "provenance": [],
      "authorship_tag": "ABX9TyOeA53Fk5VGKdglggCsXON3",
      "include_colab_link": true
    },
    "kernelspec": {
      "name": "python3",
      "display_name": "Python 3"
    },
    "language_info": {
      "name": "python"
    }
  },
  "cells": [
    {
      "cell_type": "markdown",
      "metadata": {
        "id": "view-in-github",
        "colab_type": "text"
      },
      "source": [
        "<a href=\"https://colab.research.google.com/github/Hayleyha/2023ict002/blob/main/230329.ipynb\" target=\"_parent\"><img src=\"https://colab.research.google.com/assets/colab-badge.svg\" alt=\"Open In Colab\"/></a>"
      ]
    },
    {
      "cell_type": "code",
      "execution_count": 15,
      "metadata": {
        "colab": {
          "base_uri": "https://localhost:8080/"
        },
        "id": "xzyQLT0k4GOp",
        "outputId": "fc38a9cb-aa04-4f29-da0f-425cfe15ab9c"
      },
      "outputs": [
        {
          "output_type": "stream",
          "name": "stdout",
          "text": [
            "Python Programming is a amazing Language\n"
          ]
        }
      ],
      "source": [
        "str1=\"Python\"\n",
        "str2=\"Programming\"\n",
        "str3=\"is\"\n",
        "str4=\"a amazing Language\"\n",
        "\n",
        "str1 +=\" \"+str2+\" \"+str3+\" \"+str4\n",
        "print(str1)"
      ]
    },
    {
      "cell_type": "code",
      "source": [
        "a=10\n",
        "b=5\n",
        "print(a>b)\n",
        "\n",
        "print(a<b)"
      ],
      "metadata": {
        "colab": {
          "base_uri": "https://localhost:8080/"
        },
        "id": "AQL5UCBP4Kkb",
        "outputId": "91e37fd0-f8ba-4edf-c02a-6ef3ed05eb70"
      },
      "execution_count": 18,
      "outputs": [
        {
          "output_type": "stream",
          "name": "stdout",
          "text": [
            "True\n",
            "False\n"
          ]
        }
      ]
    },
    {
      "cell_type": "code",
      "source": [
        "kor=90\n",
        "eng=80\n",
        "math=100\n",
        "print(kor>=80)and(eng>=80)and(math>=100)"
      ],
      "metadata": {
        "colab": {
          "base_uri": "https://localhost:8080/"
        },
        "id": "bbQozNAI4Knc",
        "outputId": "664ce3b6-c91f-48ed-883f-0419cca667ee"
      },
      "execution_count": 21,
      "outputs": [
        {
          "output_type": "stream",
          "name": "stdout",
          "text": [
            "True\n"
          ]
        }
      ]
    },
    {
      "cell_type": "code",
      "source": [
        "kor=90\n",
        "eng=80\n",
        "math=100\n",
        "\n",
        "cond1=kor>=80 # True\n",
        "cond2=eng>=80 # True\n",
        "cond3=math>=80 # True\n",
        "\n",
        "print(cond1 and cond2 and cond3)"
      ],
      "metadata": {
        "colab": {
          "base_uri": "https://localhost:8080/"
        },
        "id": "bBjwt4S94Kq9",
        "outputId": "27b56502-afce-4d7d-a185-533fbb38d9f2"
      },
      "execution_count": 20,
      "outputs": [
        {
          "output_type": "stream",
          "name": "stdout",
          "text": [
            "True\n"
          ]
        }
      ]
    },
    {
      "cell_type": "code",
      "source": [
        "kor=90\n",
        "eng=80\n",
        "math=100\n",
        "CUT_OFF=80\n",
        "\n",
        "cond1=kor>=CUT_OFF # True\n",
        "cond2=eng>=CUT_OFF # True\n",
        "cond3=math>=CUT_OFF # True\n",
        "\n",
        "print(cond1 and cond2 and cond3)"
      ],
      "metadata": {
        "colab": {
          "base_uri": "https://localhost:8080/"
        },
        "id": "1c_SD5yjHbPh",
        "outputId": "7873500d-f1f0-4b79-9018-66b0975ea8cf"
      },
      "execution_count": 23,
      "outputs": [
        {
          "output_type": "stream",
          "name": "stdout",
          "text": [
            "True\n"
          ]
        }
      ]
    },
    {
      "cell_type": "code",
      "source": [
        "num1=125\n",
        "num2=100\n",
        "num3=120\n",
        "\n",
        "max=num1 if num1>num2 else num2\n",
        "max=num3 if num3>max else max\n",
        "print(\"가장 큰 값\",max)"
      ],
      "metadata": {
        "colab": {
          "base_uri": "https://localhost:8080/"
        },
        "id": "iHduClwjHbS3",
        "outputId": "e4fd4ed1-25e6-428b-d5ff-510cdab3cda2"
      },
      "execution_count": 27,
      "outputs": [
        {
          "output_type": "stream",
          "name": "stdout",
          "text": [
            "가장 큰 값 125\n"
          ]
        }
      ]
    },
    {
      "cell_type": "code",
      "source": [
        "num1=input(\"\")\n",
        "num2=input(\"\")\n",
        "num3=input(\"\")\n",
        "\n",
        "max=num1 if num1>num2 else num2\n",
        "max=num3 if num3>max else max\n",
        "print(\"가장 큰 값\",max)"
      ],
      "metadata": {
        "colab": {
          "base_uri": "https://localhost:8080/"
        },
        "id": "JYSO82CjHbWJ",
        "outputId": "51a045f4-bbe1-48aa-b165-bced6a9b581e"
      },
      "execution_count": 28,
      "outputs": [
        {
          "output_type": "stream",
          "name": "stdout",
          "text": [
            "1000\n",
            "1180\n",
            "2000\n",
            "가장 큰 값 2000\n"
          ]
        }
      ]
    },
    {
      "cell_type": "code",
      "source": [
        "num1,num2,num3=(input(\"\").split())\n",
        "\n",
        "max=num1 if num1>num2 else num2\n",
        "max=num3 if num3>max else max\n",
        "print(\"가장 큰 값\",max)"
      ],
      "metadata": {
        "colab": {
          "base_uri": "https://localhost:8080/"
        },
        "id": "_K0vdG7GHbY3",
        "outputId": "d9df9636-c375-44e5-c55f-172350ac59dd"
      },
      "execution_count": 29,
      "outputs": [
        {
          "output_type": "stream",
          "name": "stdout",
          "text": [
            "100 120 130\n",
            "가장 큰 값 130\n"
          ]
        }
      ]
    },
    {
      "cell_type": "code",
      "source": [
        "number=int(input(\"어떤 숫자: \"))\n",
        "\n",
        "# [true값] if [조건절] else [false값]\n",
        "result = \" 입니다\" if number%3 == 0 else \"가 아닙니다\"\n",
        "print(f\"당신이 입력한 숫자 {number}는(은) 3의 배수{result}\")"
      ],
      "metadata": {
        "colab": {
          "base_uri": "https://localhost:8080/"
        },
        "id": "QjyXrGJGHbbn",
        "outputId": "70f3d80e-6039-4d75-c213-4c8812f517c4"
      },
      "execution_count": 34,
      "outputs": [
        {
          "output_type": "stream",
          "name": "stdout",
          "text": [
            "어떤 숫자: 20\n",
            "당신이 입력한 숫자 20는(은) 3의 배수가 아닙니다\n"
          ]
        }
      ]
    },
    {
      "cell_type": "code",
      "source": [
        "age=int(input(\"나이? \"))\n",
        "\n",
        "movie=age if age>=15 else \"이 등급의 영화를 볼 수 있습니다.\"\n",
        "movie="
      ],
      "metadata": {
        "id": "foHGSFIcck9E"
      },
      "execution_count": null,
      "outputs": []
    },
    {
      "cell_type": "code",
      "source": [
        "number=int(input(\"나이? \"))\n",
        "\n",
        "# [true값] if [조건절] else [false값]\n",
        "result = \" 있습니다\" if number>=20 else \"없습니다\"\n",
        "print(f\"이 등급의 영화를 볼 수 {result}\")"
      ],
      "metadata": {
        "colab": {
          "base_uri": "https://localhost:8080/"
        },
        "id": "rQpyGzLDclAc",
        "outputId": "92dc81e5-92f1-4a07-c5c4-6607705c8070"
      },
      "execution_count": 36,
      "outputs": [
        {
          "output_type": "stream",
          "name": "stdout",
          "text": [
            "나이? 19\n",
            "이 등급의 영화를 볼 수 없습니다\n"
          ]
        }
      ]
    },
    {
      "cell_type": "code",
      "source": [
        "number=int(input(\"상품가격? \"))\n",
        "\n",
        "# [true값] if [조건절] else [false값]\n",
        "result = \"True\" if number>=60000 else \"False\"\n",
        "print(f\"할인 대상: {result}\")"
      ],
      "metadata": {
        "colab": {
          "base_uri": "https://localhost:8080/"
        },
        "id": "3ADiTxliclD2",
        "outputId": "179b0f21-9c51-400c-9e57-d9896d1b6fc8"
      },
      "execution_count": 37,
      "outputs": [
        {
          "output_type": "stream",
          "name": "stdout",
          "text": [
            "상품가격? 20000\n",
            "할인 대상: False\n"
          ]
        }
      ]
    },
    {
      "cell_type": "code",
      "source": [],
      "metadata": {
        "id": "KvVfJKb1emwt"
      },
      "execution_count": null,
      "outputs": []
    }
  ]
}